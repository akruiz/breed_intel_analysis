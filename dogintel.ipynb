{
 "cells": [
  {
   "cell_type": "markdown",
   "metadata": {},
   "source": [
    "# Correlation between dog size and intelligence"
   ]
  },
  {
   "cell_type": "raw",
   "metadata": {},
   "source": [
    "# Hello, to whoever is running this.\n",
    "# One of my absolute loves in life are dogs and animals.\n",
    "# Another, is how the brain works and pshycology.\n",
    "# I thought this would be fun little analysis to do. I know this answer can be quickly googled but why not see for ourselves if our pups make the cut?\n",
    "# So in this analysis we will determine if dog size impacts their intelligence (yes, maybe this can a quick google) however lets see where your dog ranks!\n",
    "# but for my bias, I would love if my husky (his name is zeus) could win the medal."
   ]
  },
  {
   "cell_type": "code",
   "execution_count": 1,
   "metadata": {
    "collapsed": false
   },
   "outputs": [],
   "source": [
    "# first lets import all libraries !\n",
    "import plotly.graph_objs as go\n",
    "import numpy as np\n",
    "import pandas as pd\n",
    "from plotly.subplots import make_subplots\n",
    "import plotly.express as p"
   ]
  },
  {
   "cell_type": "code",
   "execution_count": 2,
   "metadata": {
    "collapsed": false
   },
   "outputs": [],
   "source": [
    "# Now lets import our data.\n",
    "df = pd.read_csv('dog_data.csv', engine='python')"
   ]
  },
  {
   "cell_type": "code",
   "execution_count": 3,
   "metadata": {
    "collapsed": true
   },
   "outputs": [],
   "source": [
    "# So in the table displayed:\n",
    "\n",
    "# Breed:The breed of the dogs considered in the experiment.\n",
    "# reps_lower: The lower limit of repetitions to understand new commands.\n",
    "# reps_upper: The upper limit of repetitions to understand new commands.\n",
    "# height_low_inches: The lower limit of the height of the dogs in inches.\n",
    "# height_high_inches: The upper limit of the height of the dogs in inches.\n",
    "# weight_low_lbs: The lower limit of the weight of the dogs in pounds.\n",
    "# weight_high_lbs: The upper limit of the weight of the dogs in pounds.\n",
    "\n",
    "# In this case we are determining the intelligence by the limit of repetitions to understand a new command.\n",
    "# So the more repeticions of a command means that the dog is a slow learner.\n",
    "# (Coren notes that this type of intelligence is the type most people seem interested in, and the type of intelligence that dog obedience trials measure.)\n",
    "# Now lets clean our data.\n",
    "# If there is no data in the intelligence columns we are ommiting the breed in our analysis.. sorry chihuahua!"
   ]
  },
  {
   "cell_type": "code",
   "execution_count": 4,
   "metadata": {
    "collapsed": false
   },
   "outputs": [
    {
     "name": "stdout",
     "output_type": "stream",
     "text": [
      "                             Breed  height_low_inches  height_high_inches  \\\n",
      "0                            Akita               26.0                28.0   \n",
      "1                 Atolian Sheepdog               27.0                29.0   \n",
      "2             Bernese Mountain Dog               23.0                27.0   \n",
      "3                       Bloodhound               24.0                26.0   \n",
      "4                           Borzoi               26.0                28.0   \n",
      "5                      Bullmastiff               25.0                27.0   \n",
      "6                       Great Dane               32.0                32.0   \n",
      "7                   Great Pyrenees               27.0                32.0   \n",
      "8         Great Swiss Mountain Dog               23.0                28.0   \n",
      "9                  Irish Wolfhound               28.0                35.0   \n",
      "10                          Kuvasz               28.0                30.0   \n",
      "11                         Mastiff               27.0                30.0   \n",
      "12              Neopolitan Mastiff               24.0                30.0   \n",
      "13                    Newfoundland               26.0                28.0   \n",
      "14                     Otter Hound               24.0                26.0   \n",
      "15                      Rottweiler               22.0                27.0   \n",
      "16                     Saint Berrd               25.0                28.0   \n",
      "17                    Afghan Hound               25.0                27.0   \n",
      "18                Alaskan Malamute                0.0                 0.0   \n",
      "19               American Foxhound               22.0                25.0   \n",
      "20                       Beauceron               24.0                27.0   \n",
      "21                Belgian Malinois               22.0                26.0   \n",
      "22                Belgian Sheepdog               22.0                26.0   \n",
      "23                Belgian Tervuren               22.0                26.0   \n",
      "24         Black And Tan Coonhound               23.0                27.0   \n",
      "25           Black Russian Terrier               25.0                29.0   \n",
      "26            Bouvier Des Flandres               23.0                27.0   \n",
      "27                           Boxer               21.0                25.0   \n",
      "28                          Briard               23.0                27.0   \n",
      "29        Chesapeake Bay Retriever               21.0                26.0   \n",
      "..                             ...                ...                 ...   \n",
      "120               Lakeland Terrier               13.0                14.0   \n",
      "121  Manchester Terrier (Standard)               15.0                16.0   \n",
      "122               Poodle Miniature               10.0                15.0   \n",
      "123                            Pug               10.0                11.0   \n",
      "124                           Puli               16.0                17.0   \n",
      "125                     Schipperke               10.0                13.0   \n",
      "126               Scottish Terrier               10.0                12.0   \n",
      "127               Sealyham Terrier               12.0                12.0   \n",
      "128    Shetland Sheepdog (Sheltie)               13.0                16.0   \n",
      "129                      Shiba Inu               13.0                16.0   \n",
      "130                       Shih Tzu                8.0                11.0   \n",
      "131                  Silky Terrier                9.0                10.0   \n",
      "132                   Skye Terrier               10.0                10.0   \n",
      "133                Tibetan Spaniel               10.0                10.0   \n",
      "134                Tibetan Terrier               14.0                17.0   \n",
      "135                  Welsh Terrier               15.0                15.0   \n",
      "136    West Highland White Terrier               11.0                11.0   \n",
      "137                        Whippet               18.0                22.0   \n",
      "138                  Affenpinscher                9.0                12.0   \n",
      "139                      Chihuahua                6.0                 9.0   \n",
      "140                Chinese Crested               11.0                13.0   \n",
      "141              Italian Greyhound               12.0                15.0   \n",
      "142                  Japanese Chin                8.0                11.0   \n",
      "143                        Maltese                8.0                10.0   \n",
      "144       Manchester Terrier (Toy)               10.0                12.0   \n",
      "145                       Papillon                8.0                11.0   \n",
      "146                     Pomeranian               12.0                12.0   \n",
      "147                     Poodle Toy               10.0                10.0   \n",
      "148                Toy Fox Terrier               10.0                10.0   \n",
      "149              Yorkshire Terrier                8.0                 8.0   \n",
      "\n",
      "     weight_low_lbs  weight_high_lbs  reps_lower  reps_upper  \n",
      "0                80              120         1.0         4.0  \n",
      "1               100              150         1.0         4.0  \n",
      "2                85              110         1.0         4.0  \n",
      "3                80              120         1.0         4.0  \n",
      "4                70              100         1.0         4.0  \n",
      "5               100              130         1.0         4.0  \n",
      "6               120              160         1.0         4.0  \n",
      "7                95              120         1.0         4.0  \n",
      "8               130              150         1.0         4.0  \n",
      "9                90              150         1.0         4.0  \n",
      "10               70              120         5.0        15.0  \n",
      "11              175              190         5.0        15.0  \n",
      "12              100              150         5.0        15.0  \n",
      "13              100              150         5.0        15.0  \n",
      "14               65              110         5.0        15.0  \n",
      "15               90              110         5.0        15.0  \n",
      "16              110              190         5.0        15.0  \n",
      "17               50               60         5.0        15.0  \n",
      "18                0                0         5.0        15.0  \n",
      "19               65               70         5.0        15.0  \n",
      "20              100              120         5.0        15.0  \n",
      "21               60               65         5.0        15.0  \n",
      "22               60               75         5.0        15.0  \n",
      "23               60               75         5.0        15.0  \n",
      "24               50               75         5.0        15.0  \n",
      "25               80              140         5.0        15.0  \n",
      "26               75               95         5.0        15.0  \n",
      "27               65               70         5.0        15.0  \n",
      "28               74               76         5.0        15.0  \n",
      "29               55               75         5.0        15.0  \n",
      "..              ...              ...         ...         ...  \n",
      "120              15               17        41.0        80.0  \n",
      "121              17               18        41.0        80.0  \n",
      "122              20               20        41.0        80.0  \n",
      "123              14               22        41.0        80.0  \n",
      "124              29               33        41.0        80.0  \n",
      "125              12               18        81.0       100.0  \n",
      "126              18               22        81.0       100.0  \n",
      "127              18               20        81.0       100.0  \n",
      "128              14               20        81.0       100.0  \n",
      "129              15               30        81.0       100.0  \n",
      "130               9               16        81.0       100.0  \n",
      "131               8               11        81.0       100.0  \n",
      "132              25               25        81.0       100.0  \n",
      "133               9               15        81.0       100.0  \n",
      "134              20               30        81.0       100.0  \n",
      "135              20               21        81.0       100.0  \n",
      "136              13               15         NaN         NaN  \n",
      "137              27               30         NaN         NaN  \n",
      "138               8               12         NaN         NaN  \n",
      "139               2                5         NaN         NaN  \n",
      "140               5               12         NaN         NaN  \n",
      "141               6               10         NaN         NaN  \n",
      "142               4               11         NaN         NaN  \n",
      "143               4                6         NaN         NaN  \n",
      "144               6                8         NaN         NaN  \n",
      "145               5               10         NaN         NaN  \n",
      "146               3                7         NaN         NaN  \n",
      "147              10               10         NaN         NaN  \n",
      "148               4                7         NaN         NaN  \n",
      "149               3                7         NaN         NaN  \n",
      "\n",
      "[150 rows x 7 columns]\n"
     ]
    }
   ],
   "source": [
    "# drop nan columns\n",
    "df1 = df.dropna()\n",
    "\n",
    "# remove duplicated breeds\n",
    "df1 = df.drop_duplicates(subset='Breed')\n",
    "\n",
    "# remove characters in column names\n",
    "df1['Breed'] = df1['Breed'].map(lambda x: x.lstrip('+-').rstrip('aAbBcC'))\n",
    "\n",
    "#remove any numbers from breed name\n",
    "df1['Breed'] = df['Breed'].str.replace('\\d+', '')\n",
    "\n",
    "print(df1)"
   ]
  },
  {
   "cell_type": "code",
   "execution_count": 5,
   "metadata": {
    "collapsed": true
   },
   "outputs": [],
   "source": [
    "# Now lets determine the size of our dogos by the info given.\n",
    "# for size, we will take the average weight and height based on the range given."
   ]
  },
  {
   "cell_type": "code",
   "execution_count": 6,
   "metadata": {
    "collapsed": false
   },
   "outputs": [],
   "source": [
    "df1['weight_avg'] = df1[['weight_low_lbs', 'weight_high_lbs']].mean(axis=1)\n",
    "#taking away red errors\n",
    "pd.options.mode.chained_assignment = None  # default='warn'\n",
    "df1['height_avg'] = df1[['height_low_inches', 'height_high_inches']].mean(axis=1)\n",
    "\n",
    "#taking away red errors\n",
    "pd.options.mode.chained_assignment = None  # default='warn'"
   ]
  },
  {
   "cell_type": "code",
   "execution_count": 7,
   "metadata": {
    "collapsed": false,
    "scrolled": false
   },
   "outputs": [],
   "source": [
    "# lets to the same with the repetitions to understand new commands columns\n",
    "df1['Intelligence'] = df1[['reps_lower', 'reps_upper']].mean(axis=1)\n",
    "pd.options.mode.chained_assignment = None  # default='warn'\n",
    "\n",
    "#drop zeros from size average columns\n",
    "df1 = df1[(df1[['weight_avg', 'height_avg']] != 0).any(axis=1)]"
   ]
  },
  {
   "cell_type": "code",
   "execution_count": 8,
   "metadata": {
    "collapsed": true
   },
   "outputs": [],
   "source": [
    "# Now lets classify our dogs into sizes. This will be based of a crate size so:\n",
    "# - XS: Less than 12lb \n",
    "# - S: 13lb to 25lb \n",
    "# - M: 26lb to 57lb \n",
    "# - L: 58lb to 99lb\n",
    "# - XL: 100lb+ \n",
    "# This will help visualize in our plot when visualizing\n",
    "#Lets just focus on weight for this excersice for simplicity"
   ]
  },
  {
   "cell_type": "code",
   "execution_count": 16,
   "metadata": {
    "collapsed": false
   },
   "outputs": [],
   "source": [
    "# we will add a column and classify by size\n",
    "df1.loc[(df1.weight_avg <= 12), 'size'] = 'XS'\n",
    "df1.loc[((df1.weight_avg > 12) & (df1.weight_avg <= 25)), 'size'] = 'S'\n",
    "df1.loc[((df1.weight_avg > 25) & (df1.weight_avg <= 57)), 'size'] = 'M'\n",
    "df1.loc[((df1.weight_avg > 57) & (df1.weight_avg <= 99)), 'size'] = 'L'\n",
    "df1.loc[(df1.weight_avg >= 100), 'size'] = 'XL'"
   ]
  },
  {
   "cell_type": "code",
   "execution_count": 24,
   "metadata": {
    "collapsed": false
   },
   "outputs": [],
   "source": [
    "# rename column\n",
    "df1['Weight Average']  = df1['weight_avg']"
   ]
  },
  {
   "cell_type": "code",
   "execution_count": 25,
   "metadata": {
    "collapsed": false
   },
   "outputs": [
    {
     "data": {
      "application/vnd.plotly.v1+json": {
       "config": {
        "plotlyServerURL": "https://plot.ly"
       },
       "data": [
        {
         "hovertemplate": "<b>%{hovertext}</b><br><br>size=XL<br>Weight Average=%{x}<br>Intelligence=%{y}<extra></extra>",
         "hovertext": [
          "Akita",
          "Great Swiss Mountain Dog",
          "Great Pyrenees",
          "Great Dane",
          "Bullmastiff",
          "Irish Wolfhound",
          "Bloodhound",
          "Atolian Sheepdog",
          "Black Russian Terrier",
          "Saint Berrd",
          "Rottweiler",
          "Newfoundland",
          "Neopolitan Mastiff",
          "Mastiff",
          "Beauceron",
          "Tibetan Mastiff",
          "Komondor"
         ],
         "legendgroup": "XL",
         "marker": {
          "color": "#636efa",
          "symbol": "circle"
         },
         "mode": "markers",
         "name": "XL",
         "orientation": "v",
         "showlegend": true,
         "type": "scatter",
         "x": [
          100,
          140,
          107.5,
          140,
          115,
          120,
          100,
          125,
          110,
          150,
          100,
          125,
          125,
          182.5,
          110,
          155,
          107.5
         ],
         "xaxis": "x",
         "y": [
          2.5,
          2.5,
          2.5,
          2.5,
          2.5,
          2.5,
          2.5,
          2.5,
          10,
          10,
          10,
          10,
          10,
          10,
          10,
          20.5,
          20.5
         ],
         "yaxis": "y"
        },
        {
         "hovertemplate": "<b>%{hovertext}</b><br><br>size=L<br>Weight Average=%{x}<br>Intelligence=%{y}<extra></extra>",
         "hovertext": [
          "Bernese Mountain Dog",
          "Borzoi",
          "Belgian Sheepdog",
          "Chesapeake Bay Retriever",
          "Briard",
          "Boxer",
          "Bouvier Des Flandres",
          "Black And Tan Coonhound",
          "Belgian Malinois",
          "Belgian Tervuren",
          "American Foxhound",
          "Otter Hound",
          "Kuvasz",
          "Rhodesian Ridgeback",
          "Scottish Deerhound",
          "Spinone Italiano",
          "Weimaraner",
          "Old English Sheepdog (Bobtail)",
          "Gordon Setter",
          "Labrador Retriever",
          "Collie (Rough) & (Smooth)",
          "Curly Coated Retriever",
          "English Foxhound",
          "English Setter",
          "German Shepherd Dog",
          "Doberman Pinscher",
          "German Wirehaired Pointer",
          "Giant Schuzer",
          "Golden Retriever",
          "Greyhound",
          "Irish Setter",
          "German Shorthaired Pointer",
          "Redbone Coonhound",
          "Samoyed",
          "Bull Terrier",
          "Dalmatian",
          "Flat Coated Retriever"
         ],
         "legendgroup": "L",
         "marker": {
          "color": "#EF553B",
          "symbol": "circle"
         },
         "mode": "markers",
         "name": "L",
         "orientation": "v",
         "showlegend": true,
         "type": "scatter",
         "x": [
          97.5,
          85,
          67.5,
          65,
          75,
          67.5,
          85,
          62.5,
          62.5,
          67.5,
          67.5,
          87.5,
          95,
          77.5,
          92.5,
          72.5,
          77.5,
          62.5,
          62.5,
          67.5,
          62.5,
          72.5,
          67.5,
          62.5,
          82.5,
          80,
          65,
          72.5,
          65,
          65,
          65,
          65,
          60,
          57.5,
          60,
          57.5,
          65
         ],
         "xaxis": "x",
         "y": [
          2.5,
          2.5,
          10,
          10,
          10,
          10,
          10,
          10,
          10,
          10,
          10,
          10,
          10,
          20.5,
          20.5,
          20.5,
          20.5,
          20.5,
          20.5,
          20.5,
          20.5,
          20.5,
          20.5,
          20.5,
          20.5,
          20.5,
          20.5,
          20.5,
          20.5,
          20.5,
          20.5,
          20.5,
          33,
          33,
          33,
          33,
          33
         ],
         "yaxis": "y"
        },
        {
         "hovertemplate": "<b>%{hovertext}</b><br><br>size=M<br>Weight Average=%{x}<br>Intelligence=%{y}<extra></extra>",
         "hovertext": [
          "Clumber Spaniel",
          "Afghan Hound",
          "Airdale Terrier",
          "Basset Hound",
          "American Water Spaniel",
          "Australian Cattle Dog",
          "Australian Shepherd",
          "Bearded Collie",
          "Border Collie",
          "Poodle Standard",
          "American Staffordshire Terrier",
          "Siberian Husky",
          "Plott Hound",
          "Pointer",
          "Polish Lowland Sheepdog",
          "Portuguese Water Dog",
          "Saluki",
          "Soft-Coated Wheaten Terrier",
          "American Eskimo",
          "Standard Schuzer",
          "Sussex Spaniel",
          "Welsh Springer Spaniel",
          "Wirehaired Pointing Griffon",
          "Pharaoh Hound",
          "Staffordshire Bull Terrier",
          "Petit Basset Griffon Vendeen",
          "Norwegian Elkhound",
          "Nova Scotia Duck Tolling Retriever",
          "Brittany",
          "Bull Dog",
          "Caan Dog",
          "Chinese Shar Pei",
          "Cocker Spaniel-English",
          "English Springer Spaniel",
          "Chow Chow",
          "Finnish Spitz",
          "Harrier",
          "Ibizan Hound",
          "Irish Terrier",
          "Irish Water Spaniel",
          "Keeshond",
          "Field Spaniel",
          "Kerry Blue Terrier",
          "German Pinscher",
          "Glen Imaal Terrier",
          "Puli",
          "Cardigan Welsh Corgi",
          "Whippet"
         ],
         "legendgroup": "M",
         "marker": {
          "color": "#00cc96",
          "symbol": "circle"
         },
         "mode": "markers",
         "name": "M",
         "orientation": "v",
         "showlegend": true,
         "type": "scatter",
         "x": [
          50,
          55,
          45,
          45,
          35,
          40,
          50,
          50,
          40,
          45,
          45,
          50,
          50,
          55,
          32.5,
          51,
          52.5,
          40,
          27.5,
          33,
          42.5,
          40,
          52.5,
          50,
          26,
          35,
          50,
          42.5,
          35,
          55,
          45,
          50,
          30,
          50,
          50,
          33,
          50,
          48.5,
          26,
          55,
          42.5,
          42.5,
          37.5,
          30,
          35,
          31,
          30,
          28.5
         ],
         "xaxis": "x",
         "y": [
          10,
          10,
          20.5,
          20.5,
          20.5,
          20.5,
          20.5,
          20.5,
          20.5,
          20.5,
          20.5,
          33,
          33,
          33,
          33,
          33,
          33,
          33,
          33,
          33,
          33,
          33,
          33,
          33,
          33,
          33,
          33,
          33,
          33,
          33,
          33,
          33,
          33,
          33,
          33,
          33,
          33,
          33,
          33,
          33,
          33,
          33,
          33,
          60.5,
          60.5,
          60.5,
          60.5,
          null
         ],
         "yaxis": "y"
        },
        {
         "hovertemplate": "<b>%{hovertext}</b><br><br>size=S<br>Weight Average=%{x}<br>Intelligence=%{y}<extra></extra>",
         "hovertext": [
          "Vizsla",
          "Basenji",
          "Beagle",
          "Cocker Spaniel-American",
          "French Bulldog",
          "Pug",
          "Manchester Terrier (Standard)",
          "Poodle Miniature",
          "Fox Terrier ‰ÛÒ Wirehair",
          "Lakeland Terrier",
          "Fox Terrier ‰ÛÒ Smooth",
          "Cairn Terrier",
          "Dachshund",
          "Cavalier King Charles Spaniel",
          "Boston Terrier",
          "Border Terrier",
          "Bichon Frise",
          "Bedlington Terrier",
          "Skye Terrier",
          "Shih Tzu",
          "Schipperke",
          "Shetland Sheepdog (Sheltie)",
          "Sealyham Terrier",
          "Scottish Terrier",
          "Tibetan Terrier",
          "Shiba Inu",
          "Welsh Terrier",
          "West Highland White Terrier"
         ],
         "legendgroup": "S",
         "marker": {
          "color": "#ab63fa",
          "symbol": "circle"
         },
         "mode": "markers",
         "name": "S",
         "orientation": "v",
         "showlegend": true,
         "type": "scatter",
         "x": [
          23.5,
          21,
          24,
          25,
          22.5,
          18,
          17.5,
          20,
          17.5,
          16,
          17.5,
          14,
          24,
          17.5,
          20,
          13.5,
          14,
          20.5,
          25,
          12.5,
          15,
          17,
          19,
          20,
          25,
          22.5,
          20.5,
          14
         ],
         "xaxis": "x",
         "y": [
          33,
          33,
          33,
          33,
          60.5,
          60.5,
          60.5,
          60.5,
          60.5,
          60.5,
          60.5,
          60.5,
          60.5,
          60.5,
          60.5,
          60.5,
          60.5,
          60.5,
          90.5,
          90.5,
          90.5,
          90.5,
          90.5,
          90.5,
          90.5,
          90.5,
          90.5,
          null
         ],
         "yaxis": "y"
        },
        {
         "hovertemplate": "<b>%{hovertext}</b><br><br>size=XS<br>Weight Average=%{x}<br>Intelligence=%{y}<extra></extra>",
         "hovertext": [
          "Australian Terrier",
          "Dandie Dinmont Terrier",
          "Brussels Griffon",
          "English Toy Spaniel",
          "Tibetan Spaniel",
          "Silky Terrier",
          "Affenpinscher",
          "Chihuahua",
          "Chinese Crested",
          "Italian Greyhound",
          "Japanese Chin",
          "Maltese",
          "Manchester Terrier (Toy)",
          "Papillon",
          "Pomeranian",
          "Poodle Toy",
          "Toy Fox Terrier",
          "Yorkshire Terrier"
         ],
         "legendgroup": "XS",
         "marker": {
          "color": "#FFA15A",
          "symbol": "circle"
         },
         "mode": "markers",
         "name": "XS",
         "orientation": "v",
         "showlegend": true,
         "type": "scatter",
         "x": [
          12,
          9.5,
          9,
          12,
          12,
          9.5,
          10,
          3.5,
          8.5,
          8,
          7.5,
          5,
          7,
          7.5,
          5,
          10,
          5.5,
          5
         ],
         "xaxis": "x",
         "y": [
          33,
          60.5,
          60.5,
          60.5,
          90.5,
          90.5,
          null,
          null,
          null,
          null,
          null,
          null,
          null,
          null,
          null,
          null,
          null,
          null
         ],
         "yaxis": "y"
        }
       ],
       "layout": {
        "legend": {
         "title": {
          "text": "size"
         },
         "tracegroupgap": 0
        },
        "margin": {
         "t": 60
        },
        "template": {
         "data": {
          "bar": [
           {
            "error_x": {
             "color": "#2a3f5f"
            },
            "error_y": {
             "color": "#2a3f5f"
            },
            "marker": {
             "line": {
              "color": "#E5ECF6",
              "width": 0.5
             },
             "pattern": {
              "fillmode": "overlay",
              "size": 10,
              "solidity": 0.2
             }
            },
            "type": "bar"
           }
          ],
          "barpolar": [
           {
            "marker": {
             "line": {
              "color": "#E5ECF6",
              "width": 0.5
             },
             "pattern": {
              "fillmode": "overlay",
              "size": 10,
              "solidity": 0.2
             }
            },
            "type": "barpolar"
           }
          ],
          "carpet": [
           {
            "aaxis": {
             "endlinecolor": "#2a3f5f",
             "gridcolor": "white",
             "linecolor": "white",
             "minorgridcolor": "white",
             "startlinecolor": "#2a3f5f"
            },
            "baxis": {
             "endlinecolor": "#2a3f5f",
             "gridcolor": "white",
             "linecolor": "white",
             "minorgridcolor": "white",
             "startlinecolor": "#2a3f5f"
            },
            "type": "carpet"
           }
          ],
          "choropleth": [
           {
            "colorbar": {
             "outlinewidth": 0,
             "ticks": ""
            },
            "type": "choropleth"
           }
          ],
          "contour": [
           {
            "colorbar": {
             "outlinewidth": 0,
             "ticks": ""
            },
            "colorscale": [
             [
              0,
              "#0d0887"
             ],
             [
              0.1111111111111111,
              "#46039f"
             ],
             [
              0.2222222222222222,
              "#7201a8"
             ],
             [
              0.3333333333333333,
              "#9c179e"
             ],
             [
              0.4444444444444444,
              "#bd3786"
             ],
             [
              0.5555555555555556,
              "#d8576b"
             ],
             [
              0.6666666666666666,
              "#ed7953"
             ],
             [
              0.7777777777777778,
              "#fb9f3a"
             ],
             [
              0.8888888888888888,
              "#fdca26"
             ],
             [
              1,
              "#f0f921"
             ]
            ],
            "type": "contour"
           }
          ],
          "contourcarpet": [
           {
            "colorbar": {
             "outlinewidth": 0,
             "ticks": ""
            },
            "type": "contourcarpet"
           }
          ],
          "heatmap": [
           {
            "colorbar": {
             "outlinewidth": 0,
             "ticks": ""
            },
            "colorscale": [
             [
              0,
              "#0d0887"
             ],
             [
              0.1111111111111111,
              "#46039f"
             ],
             [
              0.2222222222222222,
              "#7201a8"
             ],
             [
              0.3333333333333333,
              "#9c179e"
             ],
             [
              0.4444444444444444,
              "#bd3786"
             ],
             [
              0.5555555555555556,
              "#d8576b"
             ],
             [
              0.6666666666666666,
              "#ed7953"
             ],
             [
              0.7777777777777778,
              "#fb9f3a"
             ],
             [
              0.8888888888888888,
              "#fdca26"
             ],
             [
              1,
              "#f0f921"
             ]
            ],
            "type": "heatmap"
           }
          ],
          "heatmapgl": [
           {
            "colorbar": {
             "outlinewidth": 0,
             "ticks": ""
            },
            "colorscale": [
             [
              0,
              "#0d0887"
             ],
             [
              0.1111111111111111,
              "#46039f"
             ],
             [
              0.2222222222222222,
              "#7201a8"
             ],
             [
              0.3333333333333333,
              "#9c179e"
             ],
             [
              0.4444444444444444,
              "#bd3786"
             ],
             [
              0.5555555555555556,
              "#d8576b"
             ],
             [
              0.6666666666666666,
              "#ed7953"
             ],
             [
              0.7777777777777778,
              "#fb9f3a"
             ],
             [
              0.8888888888888888,
              "#fdca26"
             ],
             [
              1,
              "#f0f921"
             ]
            ],
            "type": "heatmapgl"
           }
          ],
          "histogram": [
           {
            "marker": {
             "pattern": {
              "fillmode": "overlay",
              "size": 10,
              "solidity": 0.2
             }
            },
            "type": "histogram"
           }
          ],
          "histogram2d": [
           {
            "colorbar": {
             "outlinewidth": 0,
             "ticks": ""
            },
            "colorscale": [
             [
              0,
              "#0d0887"
             ],
             [
              0.1111111111111111,
              "#46039f"
             ],
             [
              0.2222222222222222,
              "#7201a8"
             ],
             [
              0.3333333333333333,
              "#9c179e"
             ],
             [
              0.4444444444444444,
              "#bd3786"
             ],
             [
              0.5555555555555556,
              "#d8576b"
             ],
             [
              0.6666666666666666,
              "#ed7953"
             ],
             [
              0.7777777777777778,
              "#fb9f3a"
             ],
             [
              0.8888888888888888,
              "#fdca26"
             ],
             [
              1,
              "#f0f921"
             ]
            ],
            "type": "histogram2d"
           }
          ],
          "histogram2dcontour": [
           {
            "colorbar": {
             "outlinewidth": 0,
             "ticks": ""
            },
            "colorscale": [
             [
              0,
              "#0d0887"
             ],
             [
              0.1111111111111111,
              "#46039f"
             ],
             [
              0.2222222222222222,
              "#7201a8"
             ],
             [
              0.3333333333333333,
              "#9c179e"
             ],
             [
              0.4444444444444444,
              "#bd3786"
             ],
             [
              0.5555555555555556,
              "#d8576b"
             ],
             [
              0.6666666666666666,
              "#ed7953"
             ],
             [
              0.7777777777777778,
              "#fb9f3a"
             ],
             [
              0.8888888888888888,
              "#fdca26"
             ],
             [
              1,
              "#f0f921"
             ]
            ],
            "type": "histogram2dcontour"
           }
          ],
          "mesh3d": [
           {
            "colorbar": {
             "outlinewidth": 0,
             "ticks": ""
            },
            "type": "mesh3d"
           }
          ],
          "parcoords": [
           {
            "line": {
             "colorbar": {
              "outlinewidth": 0,
              "ticks": ""
             }
            },
            "type": "parcoords"
           }
          ],
          "pie": [
           {
            "automargin": true,
            "type": "pie"
           }
          ],
          "scatter": [
           {
            "fillpattern": {
             "fillmode": "overlay",
             "size": 10,
             "solidity": 0.2
            },
            "type": "scatter"
           }
          ],
          "scatter3d": [
           {
            "line": {
             "colorbar": {
              "outlinewidth": 0,
              "ticks": ""
             }
            },
            "marker": {
             "colorbar": {
              "outlinewidth": 0,
              "ticks": ""
             }
            },
            "type": "scatter3d"
           }
          ],
          "scattercarpet": [
           {
            "marker": {
             "colorbar": {
              "outlinewidth": 0,
              "ticks": ""
             }
            },
            "type": "scattercarpet"
           }
          ],
          "scattergeo": [
           {
            "marker": {
             "colorbar": {
              "outlinewidth": 0,
              "ticks": ""
             }
            },
            "type": "scattergeo"
           }
          ],
          "scattergl": [
           {
            "marker": {
             "colorbar": {
              "outlinewidth": 0,
              "ticks": ""
             }
            },
            "type": "scattergl"
           }
          ],
          "scattermapbox": [
           {
            "marker": {
             "colorbar": {
              "outlinewidth": 0,
              "ticks": ""
             }
            },
            "type": "scattermapbox"
           }
          ],
          "scatterpolar": [
           {
            "marker": {
             "colorbar": {
              "outlinewidth": 0,
              "ticks": ""
             }
            },
            "type": "scatterpolar"
           }
          ],
          "scatterpolargl": [
           {
            "marker": {
             "colorbar": {
              "outlinewidth": 0,
              "ticks": ""
             }
            },
            "type": "scatterpolargl"
           }
          ],
          "scatterternary": [
           {
            "marker": {
             "colorbar": {
              "outlinewidth": 0,
              "ticks": ""
             }
            },
            "type": "scatterternary"
           }
          ],
          "surface": [
           {
            "colorbar": {
             "outlinewidth": 0,
             "ticks": ""
            },
            "colorscale": [
             [
              0,
              "#0d0887"
             ],
             [
              0.1111111111111111,
              "#46039f"
             ],
             [
              0.2222222222222222,
              "#7201a8"
             ],
             [
              0.3333333333333333,
              "#9c179e"
             ],
             [
              0.4444444444444444,
              "#bd3786"
             ],
             [
              0.5555555555555556,
              "#d8576b"
             ],
             [
              0.6666666666666666,
              "#ed7953"
             ],
             [
              0.7777777777777778,
              "#fb9f3a"
             ],
             [
              0.8888888888888888,
              "#fdca26"
             ],
             [
              1,
              "#f0f921"
             ]
            ],
            "type": "surface"
           }
          ],
          "table": [
           {
            "cells": {
             "fill": {
              "color": "#EBF0F8"
             },
             "line": {
              "color": "white"
             }
            },
            "header": {
             "fill": {
              "color": "#C8D4E3"
             },
             "line": {
              "color": "white"
             }
            },
            "type": "table"
           }
          ]
         },
         "layout": {
          "annotationdefaults": {
           "arrowcolor": "#2a3f5f",
           "arrowhead": 0,
           "arrowwidth": 1
          },
          "autotypenumbers": "strict",
          "coloraxis": {
           "colorbar": {
            "outlinewidth": 0,
            "ticks": ""
           }
          },
          "colorscale": {
           "diverging": [
            [
             0,
             "#8e0152"
            ],
            [
             0.1,
             "#c51b7d"
            ],
            [
             0.2,
             "#de77ae"
            ],
            [
             0.3,
             "#f1b6da"
            ],
            [
             0.4,
             "#fde0ef"
            ],
            [
             0.5,
             "#f7f7f7"
            ],
            [
             0.6,
             "#e6f5d0"
            ],
            [
             0.7,
             "#b8e186"
            ],
            [
             0.8,
             "#7fbc41"
            ],
            [
             0.9,
             "#4d9221"
            ],
            [
             1,
             "#276419"
            ]
           ],
           "sequential": [
            [
             0,
             "#0d0887"
            ],
            [
             0.1111111111111111,
             "#46039f"
            ],
            [
             0.2222222222222222,
             "#7201a8"
            ],
            [
             0.3333333333333333,
             "#9c179e"
            ],
            [
             0.4444444444444444,
             "#bd3786"
            ],
            [
             0.5555555555555556,
             "#d8576b"
            ],
            [
             0.6666666666666666,
             "#ed7953"
            ],
            [
             0.7777777777777778,
             "#fb9f3a"
            ],
            [
             0.8888888888888888,
             "#fdca26"
            ],
            [
             1,
             "#f0f921"
            ]
           ],
           "sequentialminus": [
            [
             0,
             "#0d0887"
            ],
            [
             0.1111111111111111,
             "#46039f"
            ],
            [
             0.2222222222222222,
             "#7201a8"
            ],
            [
             0.3333333333333333,
             "#9c179e"
            ],
            [
             0.4444444444444444,
             "#bd3786"
            ],
            [
             0.5555555555555556,
             "#d8576b"
            ],
            [
             0.6666666666666666,
             "#ed7953"
            ],
            [
             0.7777777777777778,
             "#fb9f3a"
            ],
            [
             0.8888888888888888,
             "#fdca26"
            ],
            [
             1,
             "#f0f921"
            ]
           ]
          },
          "colorway": [
           "#636efa",
           "#EF553B",
           "#00cc96",
           "#ab63fa",
           "#FFA15A",
           "#19d3f3",
           "#FF6692",
           "#B6E880",
           "#FF97FF",
           "#FECB52"
          ],
          "font": {
           "color": "#2a3f5f"
          },
          "geo": {
           "bgcolor": "white",
           "lakecolor": "white",
           "landcolor": "#E5ECF6",
           "showlakes": true,
           "showland": true,
           "subunitcolor": "white"
          },
          "hoverlabel": {
           "align": "left"
          },
          "hovermode": "closest",
          "mapbox": {
           "style": "light"
          },
          "paper_bgcolor": "white",
          "plot_bgcolor": "#E5ECF6",
          "polar": {
           "angularaxis": {
            "gridcolor": "white",
            "linecolor": "white",
            "ticks": ""
           },
           "bgcolor": "#E5ECF6",
           "radialaxis": {
            "gridcolor": "white",
            "linecolor": "white",
            "ticks": ""
           }
          },
          "scene": {
           "xaxis": {
            "backgroundcolor": "#E5ECF6",
            "gridcolor": "white",
            "gridwidth": 2,
            "linecolor": "white",
            "showbackground": true,
            "ticks": "",
            "zerolinecolor": "white"
           },
           "yaxis": {
            "backgroundcolor": "#E5ECF6",
            "gridcolor": "white",
            "gridwidth": 2,
            "linecolor": "white",
            "showbackground": true,
            "ticks": "",
            "zerolinecolor": "white"
           },
           "zaxis": {
            "backgroundcolor": "#E5ECF6",
            "gridcolor": "white",
            "gridwidth": 2,
            "linecolor": "white",
            "showbackground": true,
            "ticks": "",
            "zerolinecolor": "white"
           }
          },
          "shapedefaults": {
           "line": {
            "color": "#2a3f5f"
           }
          },
          "ternary": {
           "aaxis": {
            "gridcolor": "white",
            "linecolor": "white",
            "ticks": ""
           },
           "baxis": {
            "gridcolor": "white",
            "linecolor": "white",
            "ticks": ""
           },
           "bgcolor": "#E5ECF6",
           "caxis": {
            "gridcolor": "white",
            "linecolor": "white",
            "ticks": ""
           }
          },
          "title": {
           "x": 0.05
          },
          "xaxis": {
           "automargin": true,
           "gridcolor": "white",
           "linecolor": "white",
           "ticks": "",
           "title": {
            "standoff": 15
           },
           "zerolinecolor": "white",
           "zerolinewidth": 2
          },
          "yaxis": {
           "automargin": true,
           "gridcolor": "white",
           "linecolor": "white",
           "ticks": "",
           "title": {
            "standoff": 15
           },
           "zerolinecolor": "white",
           "zerolinewidth": 2
          }
         }
        },
        "title": {
         "text": "Dog Size vs Intelligence"
        },
        "xaxis": {
         "anchor": "y",
         "domain": [
          0,
          1
         ],
         "title": {
          "text": "Weight Average"
         }
        },
        "yaxis": {
         "anchor": "x",
         "domain": [
          0,
          1
         ],
         "title": {
          "text": "Intelligence"
         }
        }
       }
      },
      "text/html": [
       "<div>                            <div id=\"ca2513d2-dd6a-471e-9f33-f849179fbe02\" class=\"plotly-graph-div\" style=\"height:525px; width:100%;\"></div>            <script type=\"text/javascript\">                require([\"plotly\"], function(Plotly) {                    window.PLOTLYENV=window.PLOTLYENV || {};                                    if (document.getElementById(\"ca2513d2-dd6a-471e-9f33-f849179fbe02\")) {                    Plotly.newPlot(                        \"ca2513d2-dd6a-471e-9f33-f849179fbe02\",                        [{\"hovertemplate\":\"<b>%{hovertext}</b><br><br>size=XL<br>Weight Average=%{x}<br>Intelligence=%{y}<extra></extra>\",\"hovertext\":[\"Akita\",\"Great Swiss Mountain Dog\",\"Great Pyrenees\",\"Great Dane\",\"Bullmastiff\",\"Irish Wolfhound\",\"Bloodhound\",\"Atolian Sheepdog\",\"Black Russian Terrier\",\"Saint Berrd\",\"Rottweiler\",\"Newfoundland\",\"Neopolitan Mastiff\",\"Mastiff\",\"Beauceron\",\"Tibetan Mastiff\",\"Komondor\"],\"legendgroup\":\"XL\",\"marker\":{\"color\":\"#636efa\",\"symbol\":\"circle\"},\"mode\":\"markers\",\"name\":\"XL\",\"orientation\":\"v\",\"showlegend\":true,\"x\":[100.0,140.0,107.5,140.0,115.0,120.0,100.0,125.0,110.0,150.0,100.0,125.0,125.0,182.5,110.0,155.0,107.5],\"xaxis\":\"x\",\"y\":[2.5,2.5,2.5,2.5,2.5,2.5,2.5,2.5,10.0,10.0,10.0,10.0,10.0,10.0,10.0,20.5,20.5],\"yaxis\":\"y\",\"type\":\"scatter\"},{\"hovertemplate\":\"<b>%{hovertext}</b><br><br>size=L<br>Weight Average=%{x}<br>Intelligence=%{y}<extra></extra>\",\"hovertext\":[\"Bernese Mountain Dog\",\"Borzoi\",\"Belgian Sheepdog\",\"Chesapeake Bay Retriever\",\"Briard\",\"Boxer\",\"Bouvier Des Flandres\",\"Black And Tan Coonhound\",\"Belgian Malinois\",\"Belgian Tervuren\",\"American Foxhound\",\"Otter Hound\",\"Kuvasz\",\"Rhodesian Ridgeback\",\"Scottish Deerhound\",\"Spinone Italiano\",\"Weimaraner\",\"Old English Sheepdog (Bobtail)\",\"Gordon Setter\",\"Labrador Retriever\",\"Collie (Rough) & (Smooth)\",\"Curly Coated Retriever\",\"English Foxhound\",\"English Setter\",\"German Shepherd Dog\",\"Doberman Pinscher\",\"German Wirehaired Pointer\",\"Giant Schuzer\",\"Golden Retriever\",\"Greyhound\",\"Irish Setter\",\"German Shorthaired Pointer\",\"Redbone Coonhound\",\"Samoyed\",\"Bull Terrier\",\"Dalmatian\",\"Flat Coated Retriever\"],\"legendgroup\":\"L\",\"marker\":{\"color\":\"#EF553B\",\"symbol\":\"circle\"},\"mode\":\"markers\",\"name\":\"L\",\"orientation\":\"v\",\"showlegend\":true,\"x\":[97.5,85.0,67.5,65.0,75.0,67.5,85.0,62.5,62.5,67.5,67.5,87.5,95.0,77.5,92.5,72.5,77.5,62.5,62.5,67.5,62.5,72.5,67.5,62.5,82.5,80.0,65.0,72.5,65.0,65.0,65.0,65.0,60.0,57.5,60.0,57.5,65.0],\"xaxis\":\"x\",\"y\":[2.5,2.5,10.0,10.0,10.0,10.0,10.0,10.0,10.0,10.0,10.0,10.0,10.0,20.5,20.5,20.5,20.5,20.5,20.5,20.5,20.5,20.5,20.5,20.5,20.5,20.5,20.5,20.5,20.5,20.5,20.5,20.5,33.0,33.0,33.0,33.0,33.0],\"yaxis\":\"y\",\"type\":\"scatter\"},{\"hovertemplate\":\"<b>%{hovertext}</b><br><br>size=M<br>Weight Average=%{x}<br>Intelligence=%{y}<extra></extra>\",\"hovertext\":[\"Clumber Spaniel\",\"Afghan Hound\",\"Airdale Terrier\",\"Basset Hound\",\"American Water Spaniel\",\"Australian Cattle Dog\",\"Australian Shepherd\",\"Bearded Collie\",\"Border Collie\",\"Poodle Standard\",\"American Staffordshire Terrier\",\"Siberian Husky\",\"Plott Hound\",\"Pointer\",\"Polish Lowland Sheepdog\",\"Portuguese Water Dog\",\"Saluki\",\"Soft-Coated Wheaten Terrier\",\"American Eskimo\",\"Standard Schuzer\",\"Sussex Spaniel\",\"Welsh Springer Spaniel\",\"Wirehaired Pointing Griffon\",\"Pharaoh Hound\",\"Staffordshire Bull Terrier\",\"Petit Basset Griffon Vendeen\",\"Norwegian Elkhound\",\"Nova Scotia Duck Tolling Retriever\",\"Brittany\",\"Bull Dog\",\"Caan Dog\",\"Chinese Shar Pei\",\"Cocker Spaniel-English\",\"English Springer Spaniel\",\"Chow Chow\",\"Finnish Spitz\",\"Harrier\",\"Ibizan Hound\",\"Irish Terrier\",\"Irish Water Spaniel\",\"Keeshond\",\"Field Spaniel\",\"Kerry Blue Terrier\",\"German Pinscher\",\"Glen Imaal Terrier\",\"Puli\",\"Cardigan Welsh Corgi\",\"Whippet\"],\"legendgroup\":\"M\",\"marker\":{\"color\":\"#00cc96\",\"symbol\":\"circle\"},\"mode\":\"markers\",\"name\":\"M\",\"orientation\":\"v\",\"showlegend\":true,\"x\":[50.0,55.0,45.0,45.0,35.0,40.0,50.0,50.0,40.0,45.0,45.0,50.0,50.0,55.0,32.5,51.0,52.5,40.0,27.5,33.0,42.5,40.0,52.5,50.0,26.0,35.0,50.0,42.5,35.0,55.0,45.0,50.0,30.0,50.0,50.0,33.0,50.0,48.5,26.0,55.0,42.5,42.5,37.5,30.0,35.0,31.0,30.0,28.5],\"xaxis\":\"x\",\"y\":[10.0,10.0,20.5,20.5,20.5,20.5,20.5,20.5,20.5,20.5,20.5,33.0,33.0,33.0,33.0,33.0,33.0,33.0,33.0,33.0,33.0,33.0,33.0,33.0,33.0,33.0,33.0,33.0,33.0,33.0,33.0,33.0,33.0,33.0,33.0,33.0,33.0,33.0,33.0,33.0,33.0,33.0,33.0,60.5,60.5,60.5,60.5,null],\"yaxis\":\"y\",\"type\":\"scatter\"},{\"hovertemplate\":\"<b>%{hovertext}</b><br><br>size=S<br>Weight Average=%{x}<br>Intelligence=%{y}<extra></extra>\",\"hovertext\":[\"Vizsla\",\"Basenji\",\"Beagle\",\"Cocker Spaniel-American\",\"French Bulldog\",\"Pug\",\"Manchester Terrier (Standard)\",\"Poodle Miniature\",\"Fox Terrier \\u2030\\u00db\\u00d2 Wirehair\",\"Lakeland Terrier\",\"Fox Terrier \\u2030\\u00db\\u00d2 Smooth\",\"Cairn Terrier\",\"Dachshund\",\"Cavalier King Charles Spaniel\",\"Boston Terrier\",\"Border Terrier\",\"Bichon Frise\",\"Bedlington Terrier\",\"Skye Terrier\",\"Shih Tzu\",\"Schipperke\",\"Shetland Sheepdog (Sheltie)\",\"Sealyham Terrier\",\"Scottish Terrier\",\"Tibetan Terrier\",\"Shiba Inu\",\"Welsh Terrier\",\"West Highland White Terrier\"],\"legendgroup\":\"S\",\"marker\":{\"color\":\"#ab63fa\",\"symbol\":\"circle\"},\"mode\":\"markers\",\"name\":\"S\",\"orientation\":\"v\",\"showlegend\":true,\"x\":[23.5,21.0,24.0,25.0,22.5,18.0,17.5,20.0,17.5,16.0,17.5,14.0,24.0,17.5,20.0,13.5,14.0,20.5,25.0,12.5,15.0,17.0,19.0,20.0,25.0,22.5,20.5,14.0],\"xaxis\":\"x\",\"y\":[33.0,33.0,33.0,33.0,60.5,60.5,60.5,60.5,60.5,60.5,60.5,60.5,60.5,60.5,60.5,60.5,60.5,60.5,90.5,90.5,90.5,90.5,90.5,90.5,90.5,90.5,90.5,null],\"yaxis\":\"y\",\"type\":\"scatter\"},{\"hovertemplate\":\"<b>%{hovertext}</b><br><br>size=XS<br>Weight Average=%{x}<br>Intelligence=%{y}<extra></extra>\",\"hovertext\":[\"Australian Terrier\",\"Dandie Dinmont Terrier\",\"Brussels Griffon\",\"English Toy Spaniel\",\"Tibetan Spaniel\",\"Silky Terrier\",\"Affenpinscher\",\"Chihuahua\",\"Chinese Crested\",\"Italian Greyhound\",\"Japanese Chin\",\"Maltese\",\"Manchester Terrier (Toy)\",\"Papillon\",\"Pomeranian\",\"Poodle Toy\",\"Toy Fox Terrier\",\"Yorkshire Terrier\"],\"legendgroup\":\"XS\",\"marker\":{\"color\":\"#FFA15A\",\"symbol\":\"circle\"},\"mode\":\"markers\",\"name\":\"XS\",\"orientation\":\"v\",\"showlegend\":true,\"x\":[12.0,9.5,9.0,12.0,12.0,9.5,10.0,3.5,8.5,8.0,7.5,5.0,7.0,7.5,5.0,10.0,5.5,5.0],\"xaxis\":\"x\",\"y\":[33.0,60.5,60.5,60.5,90.5,90.5,null,null,null,null,null,null,null,null,null,null,null,null],\"yaxis\":\"y\",\"type\":\"scatter\"}],                        {\"template\":{\"data\":{\"histogram2dcontour\":[{\"type\":\"histogram2dcontour\",\"colorbar\":{\"outlinewidth\":0,\"ticks\":\"\"},\"colorscale\":[[0.0,\"#0d0887\"],[0.1111111111111111,\"#46039f\"],[0.2222222222222222,\"#7201a8\"],[0.3333333333333333,\"#9c179e\"],[0.4444444444444444,\"#bd3786\"],[0.5555555555555556,\"#d8576b\"],[0.6666666666666666,\"#ed7953\"],[0.7777777777777778,\"#fb9f3a\"],[0.8888888888888888,\"#fdca26\"],[1.0,\"#f0f921\"]]}],\"choropleth\":[{\"type\":\"choropleth\",\"colorbar\":{\"outlinewidth\":0,\"ticks\":\"\"}}],\"histogram2d\":[{\"type\":\"histogram2d\",\"colorbar\":{\"outlinewidth\":0,\"ticks\":\"\"},\"colorscale\":[[0.0,\"#0d0887\"],[0.1111111111111111,\"#46039f\"],[0.2222222222222222,\"#7201a8\"],[0.3333333333333333,\"#9c179e\"],[0.4444444444444444,\"#bd3786\"],[0.5555555555555556,\"#d8576b\"],[0.6666666666666666,\"#ed7953\"],[0.7777777777777778,\"#fb9f3a\"],[0.8888888888888888,\"#fdca26\"],[1.0,\"#f0f921\"]]}],\"heatmap\":[{\"type\":\"heatmap\",\"colorbar\":{\"outlinewidth\":0,\"ticks\":\"\"},\"colorscale\":[[0.0,\"#0d0887\"],[0.1111111111111111,\"#46039f\"],[0.2222222222222222,\"#7201a8\"],[0.3333333333333333,\"#9c179e\"],[0.4444444444444444,\"#bd3786\"],[0.5555555555555556,\"#d8576b\"],[0.6666666666666666,\"#ed7953\"],[0.7777777777777778,\"#fb9f3a\"],[0.8888888888888888,\"#fdca26\"],[1.0,\"#f0f921\"]]}],\"heatmapgl\":[{\"type\":\"heatmapgl\",\"colorbar\":{\"outlinewidth\":0,\"ticks\":\"\"},\"colorscale\":[[0.0,\"#0d0887\"],[0.1111111111111111,\"#46039f\"],[0.2222222222222222,\"#7201a8\"],[0.3333333333333333,\"#9c179e\"],[0.4444444444444444,\"#bd3786\"],[0.5555555555555556,\"#d8576b\"],[0.6666666666666666,\"#ed7953\"],[0.7777777777777778,\"#fb9f3a\"],[0.8888888888888888,\"#fdca26\"],[1.0,\"#f0f921\"]]}],\"contourcarpet\":[{\"type\":\"contourcarpet\",\"colorbar\":{\"outlinewidth\":0,\"ticks\":\"\"}}],\"contour\":[{\"type\":\"contour\",\"colorbar\":{\"outlinewidth\":0,\"ticks\":\"\"},\"colorscale\":[[0.0,\"#0d0887\"],[0.1111111111111111,\"#46039f\"],[0.2222222222222222,\"#7201a8\"],[0.3333333333333333,\"#9c179e\"],[0.4444444444444444,\"#bd3786\"],[0.5555555555555556,\"#d8576b\"],[0.6666666666666666,\"#ed7953\"],[0.7777777777777778,\"#fb9f3a\"],[0.8888888888888888,\"#fdca26\"],[1.0,\"#f0f921\"]]}],\"surface\":[{\"type\":\"surface\",\"colorbar\":{\"outlinewidth\":0,\"ticks\":\"\"},\"colorscale\":[[0.0,\"#0d0887\"],[0.1111111111111111,\"#46039f\"],[0.2222222222222222,\"#7201a8\"],[0.3333333333333333,\"#9c179e\"],[0.4444444444444444,\"#bd3786\"],[0.5555555555555556,\"#d8576b\"],[0.6666666666666666,\"#ed7953\"],[0.7777777777777778,\"#fb9f3a\"],[0.8888888888888888,\"#fdca26\"],[1.0,\"#f0f921\"]]}],\"mesh3d\":[{\"type\":\"mesh3d\",\"colorbar\":{\"outlinewidth\":0,\"ticks\":\"\"}}],\"scatter\":[{\"fillpattern\":{\"fillmode\":\"overlay\",\"size\":10,\"solidity\":0.2},\"type\":\"scatter\"}],\"parcoords\":[{\"type\":\"parcoords\",\"line\":{\"colorbar\":{\"outlinewidth\":0,\"ticks\":\"\"}}}],\"scatterpolargl\":[{\"type\":\"scatterpolargl\",\"marker\":{\"colorbar\":{\"outlinewidth\":0,\"ticks\":\"\"}}}],\"bar\":[{\"error_x\":{\"color\":\"#2a3f5f\"},\"error_y\":{\"color\":\"#2a3f5f\"},\"marker\":{\"line\":{\"color\":\"#E5ECF6\",\"width\":0.5},\"pattern\":{\"fillmode\":\"overlay\",\"size\":10,\"solidity\":0.2}},\"type\":\"bar\"}],\"scattergeo\":[{\"type\":\"scattergeo\",\"marker\":{\"colorbar\":{\"outlinewidth\":0,\"ticks\":\"\"}}}],\"scatterpolar\":[{\"type\":\"scatterpolar\",\"marker\":{\"colorbar\":{\"outlinewidth\":0,\"ticks\":\"\"}}}],\"histogram\":[{\"marker\":{\"pattern\":{\"fillmode\":\"overlay\",\"size\":10,\"solidity\":0.2}},\"type\":\"histogram\"}],\"scattergl\":[{\"type\":\"scattergl\",\"marker\":{\"colorbar\":{\"outlinewidth\":0,\"ticks\":\"\"}}}],\"scatter3d\":[{\"type\":\"scatter3d\",\"line\":{\"colorbar\":{\"outlinewidth\":0,\"ticks\":\"\"}},\"marker\":{\"colorbar\":{\"outlinewidth\":0,\"ticks\":\"\"}}}],\"scattermapbox\":[{\"type\":\"scattermapbox\",\"marker\":{\"colorbar\":{\"outlinewidth\":0,\"ticks\":\"\"}}}],\"scatterternary\":[{\"type\":\"scatterternary\",\"marker\":{\"colorbar\":{\"outlinewidth\":0,\"ticks\":\"\"}}}],\"scattercarpet\":[{\"type\":\"scattercarpet\",\"marker\":{\"colorbar\":{\"outlinewidth\":0,\"ticks\":\"\"}}}],\"carpet\":[{\"aaxis\":{\"endlinecolor\":\"#2a3f5f\",\"gridcolor\":\"white\",\"linecolor\":\"white\",\"minorgridcolor\":\"white\",\"startlinecolor\":\"#2a3f5f\"},\"baxis\":{\"endlinecolor\":\"#2a3f5f\",\"gridcolor\":\"white\",\"linecolor\":\"white\",\"minorgridcolor\":\"white\",\"startlinecolor\":\"#2a3f5f\"},\"type\":\"carpet\"}],\"table\":[{\"cells\":{\"fill\":{\"color\":\"#EBF0F8\"},\"line\":{\"color\":\"white\"}},\"header\":{\"fill\":{\"color\":\"#C8D4E3\"},\"line\":{\"color\":\"white\"}},\"type\":\"table\"}],\"barpolar\":[{\"marker\":{\"line\":{\"color\":\"#E5ECF6\",\"width\":0.5},\"pattern\":{\"fillmode\":\"overlay\",\"size\":10,\"solidity\":0.2}},\"type\":\"barpolar\"}],\"pie\":[{\"automargin\":true,\"type\":\"pie\"}]},\"layout\":{\"autotypenumbers\":\"strict\",\"colorway\":[\"#636efa\",\"#EF553B\",\"#00cc96\",\"#ab63fa\",\"#FFA15A\",\"#19d3f3\",\"#FF6692\",\"#B6E880\",\"#FF97FF\",\"#FECB52\"],\"font\":{\"color\":\"#2a3f5f\"},\"hovermode\":\"closest\",\"hoverlabel\":{\"align\":\"left\"},\"paper_bgcolor\":\"white\",\"plot_bgcolor\":\"#E5ECF6\",\"polar\":{\"bgcolor\":\"#E5ECF6\",\"angularaxis\":{\"gridcolor\":\"white\",\"linecolor\":\"white\",\"ticks\":\"\"},\"radialaxis\":{\"gridcolor\":\"white\",\"linecolor\":\"white\",\"ticks\":\"\"}},\"ternary\":{\"bgcolor\":\"#E5ECF6\",\"aaxis\":{\"gridcolor\":\"white\",\"linecolor\":\"white\",\"ticks\":\"\"},\"baxis\":{\"gridcolor\":\"white\",\"linecolor\":\"white\",\"ticks\":\"\"},\"caxis\":{\"gridcolor\":\"white\",\"linecolor\":\"white\",\"ticks\":\"\"}},\"coloraxis\":{\"colorbar\":{\"outlinewidth\":0,\"ticks\":\"\"}},\"colorscale\":{\"sequential\":[[0.0,\"#0d0887\"],[0.1111111111111111,\"#46039f\"],[0.2222222222222222,\"#7201a8\"],[0.3333333333333333,\"#9c179e\"],[0.4444444444444444,\"#bd3786\"],[0.5555555555555556,\"#d8576b\"],[0.6666666666666666,\"#ed7953\"],[0.7777777777777778,\"#fb9f3a\"],[0.8888888888888888,\"#fdca26\"],[1.0,\"#f0f921\"]],\"sequentialminus\":[[0.0,\"#0d0887\"],[0.1111111111111111,\"#46039f\"],[0.2222222222222222,\"#7201a8\"],[0.3333333333333333,\"#9c179e\"],[0.4444444444444444,\"#bd3786\"],[0.5555555555555556,\"#d8576b\"],[0.6666666666666666,\"#ed7953\"],[0.7777777777777778,\"#fb9f3a\"],[0.8888888888888888,\"#fdca26\"],[1.0,\"#f0f921\"]],\"diverging\":[[0,\"#8e0152\"],[0.1,\"#c51b7d\"],[0.2,\"#de77ae\"],[0.3,\"#f1b6da\"],[0.4,\"#fde0ef\"],[0.5,\"#f7f7f7\"],[0.6,\"#e6f5d0\"],[0.7,\"#b8e186\"],[0.8,\"#7fbc41\"],[0.9,\"#4d9221\"],[1,\"#276419\"]]},\"xaxis\":{\"gridcolor\":\"white\",\"linecolor\":\"white\",\"ticks\":\"\",\"title\":{\"standoff\":15},\"zerolinecolor\":\"white\",\"automargin\":true,\"zerolinewidth\":2},\"yaxis\":{\"gridcolor\":\"white\",\"linecolor\":\"white\",\"ticks\":\"\",\"title\":{\"standoff\":15},\"zerolinecolor\":\"white\",\"automargin\":true,\"zerolinewidth\":2},\"scene\":{\"xaxis\":{\"backgroundcolor\":\"#E5ECF6\",\"gridcolor\":\"white\",\"linecolor\":\"white\",\"showbackground\":true,\"ticks\":\"\",\"zerolinecolor\":\"white\",\"gridwidth\":2},\"yaxis\":{\"backgroundcolor\":\"#E5ECF6\",\"gridcolor\":\"white\",\"linecolor\":\"white\",\"showbackground\":true,\"ticks\":\"\",\"zerolinecolor\":\"white\",\"gridwidth\":2},\"zaxis\":{\"backgroundcolor\":\"#E5ECF6\",\"gridcolor\":\"white\",\"linecolor\":\"white\",\"showbackground\":true,\"ticks\":\"\",\"zerolinecolor\":\"white\",\"gridwidth\":2}},\"shapedefaults\":{\"line\":{\"color\":\"#2a3f5f\"}},\"annotationdefaults\":{\"arrowcolor\":\"#2a3f5f\",\"arrowhead\":0,\"arrowwidth\":1},\"geo\":{\"bgcolor\":\"white\",\"landcolor\":\"#E5ECF6\",\"subunitcolor\":\"white\",\"showland\":true,\"showlakes\":true,\"lakecolor\":\"white\"},\"title\":{\"x\":0.05},\"mapbox\":{\"style\":\"light\"}}},\"xaxis\":{\"anchor\":\"y\",\"domain\":[0.0,1.0],\"title\":{\"text\":\"Weight Average\"}},\"yaxis\":{\"anchor\":\"x\",\"domain\":[0.0,1.0],\"title\":{\"text\":\"Intelligence\"}},\"legend\":{\"title\":{\"text\":\"size\"},\"tracegroupgap\":0},\"margin\":{\"t\":60},\"title\":{\"text\":\"Dog Size vs Intelligence\"}},                        {\"responsive\": true}                    ).then(function(){\n",
       "                            \n",
       "var gd = document.getElementById('ca2513d2-dd6a-471e-9f33-f849179fbe02');\n",
       "var x = new MutationObserver(function (mutations, observer) {{\n",
       "        var display = window.getComputedStyle(gd).display;\n",
       "        if (!display || display === 'none') {{\n",
       "            console.log([gd, 'removed!']);\n",
       "            Plotly.purge(gd);\n",
       "            observer.disconnect();\n",
       "        }}\n",
       "}});\n",
       "\n",
       "// Listen for the removal of the full notebook cells\n",
       "var notebookContainer = gd.closest('#notebook-container');\n",
       "if (notebookContainer) {{\n",
       "    x.observe(notebookContainer, {childList: true});\n",
       "}}\n",
       "\n",
       "// Listen for the clearing of the current output cell\n",
       "var outputEl = gd.closest('.output');\n",
       "if (outputEl) {{\n",
       "    x.observe(outputEl, {childList: true});\n",
       "}}\n",
       "\n",
       "                        })                };                });            </script>        </div>"
      ]
     },
     "metadata": {},
     "output_type": "display_data"
    }
   ],
   "source": [
    "# Now lets visualize the data to get closer to more answers!\n",
    "import plotly.express as px\n",
    "\n",
    "fig = px.scatter(df1, x=\"Weight Average\", y=\"Intelligence\", color='size', hover_name=\"Breed\",)\n",
    "fig.update_layout(\n",
    "    title='Dog Size vs Intelligence')\n",
    "\n",
    "\n",
    "fig.show()"
   ]
  },
  {
   "cell_type": "code",
   "execution_count": 26,
   "metadata": {
    "collapsed": true
   },
   "outputs": [],
   "source": [
    "# What do we see? (hover over the plot to see the breeds and maybe find yours)\n",
    "# Looks like the larger dogs need less repeticions for them to undestand a command!\n",
    "\n",
    "# Now lets filter this a little bit more to see who lands as the smartest 10 dog breeds and see if the devious zues makes the cut! (siberian husky)"
   ]
  },
  {
   "cell_type": "code",
   "execution_count": 29,
   "metadata": {
    "collapsed": false
   },
   "outputs": [
    {
     "name": "stdout",
     "output_type": "stream",
     "text": [
      "                      Breed  Intelligence size   Size  Weight Average\n",
      "0                     Akita           2.5   XL  100.0           100.0\n",
      "8  Great Swiss Mountain Dog           2.5   XL  140.0           140.0\n",
      "7            Great Pyrenees           2.5   XL  107.5           107.5\n",
      "6                Great Dane           2.5   XL  140.0           140.0\n",
      "4                    Borzoi           2.5    L   85.0            85.0\n",
      "5               Bullmastiff           2.5   XL  115.0           115.0\n",
      "3                Bloodhound           2.5   XL  100.0           100.0\n",
      "2      Bernese Mountain Dog           2.5    L   97.5            97.5\n",
      "1          Atolian Sheepdog           2.5   XL  125.0           125.0\n",
      "9           Irish Wolfhound           2.5   XL  120.0           120.0\n"
     ]
    }
   ],
   "source": [
    "df1 = df1.sort_values('Intelligence')\n",
    "df2 = df1.drop(['height_low_inches','height_high_inches','weight_low_lbs', 'weight_avg', 'weight_high_lbs','height_avg', 'reps_lower','reps_upper'], 1)\n",
    "print(df2.head(10))"
   ]
  },
  {
   "cell_type": "code",
   "execution_count": 30,
   "metadata": {
    "collapsed": false
   },
   "outputs": [
    {
     "name": "stdout",
     "output_type": "stream",
     "text": [
      "             Breed  Intelligence size  Size  Weight Average\n",
      "91  Siberian Husky          33.0    M  50.0            50.0\n"
     ]
    }
   ],
   "source": [
    "# Wow he didnt make the top 10..\n",
    "# We do see however the top smartest dogs are mostly over 100lb!\n",
    "# So where is zues?\n",
    "findzeus = df2.loc[df.Breed =='Siberian Husky']\n",
    "print(findzeus)"
   ]
  },
  {
   "cell_type": "code",
   "execution_count": 31,
   "metadata": {
    "collapsed": true
   },
   "outputs": [],
   "source": [
    "# At least hes in the top 100! \n",
    "# Thank you for running my code i hope you enjoyed and if you have a smaller dog im sure he is just as smart and this is just\n",
    "# an older study/dataset that should be revisited."
   ]
  },
  {
   "cell_type": "markdown",
   "metadata": {},
   "source": [
    "#### Suggestions for future research (including improvements)"
   ]
  },
  {
   "cell_type": "code",
   "execution_count": 32,
   "metadata": {
    "collapsed": true
   },
   "outputs": [],
   "source": [
    "# - Something else we can consider in this analysis is the other data in the dataset. we can consider the height data to get a more accurate read on the dogs size. However for indurtry standard he just used weight.\n",
    "# - Include other resources on dog intelligence such as the ability to solve problems such as detouring to a goal or emotional intelligence\n",
    "# - Get more data points for intelligence so look at different studies\n",
    "# - Calculate the baseline for the data\n",
    "# - Get more data points for weight and height instead of a range\n",
    "# - Do a more interactive analysis where you can input your dog and it tell you where it ranks"
   ]
  }
 ],
 "metadata": {
  "kernelspec": {
   "display_name": "Python 3",
   "language": "python",
   "name": "python3"
  },
  "language_info": {
   "codemirror_mode": {
    "name": "ipython",
    "version": 3
   },
   "file_extension": ".py",
   "mimetype": "text/x-python",
   "name": "python",
   "nbconvert_exporter": "python",
   "pygments_lexer": "ipython3",
   "version": "3.6.15"
  }
 },
 "nbformat": 4,
 "nbformat_minor": 2
}
